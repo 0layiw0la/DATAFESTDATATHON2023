{
 "cells": [
  {
   "cell_type": "code",
   "execution_count": 2,
   "id": "7d6e9cd0",
   "metadata": {},
   "outputs": [
    {
     "data": {
      "text/html": [
       "<div>\n",
       "<style scoped>\n",
       "    .dataframe tbody tr th:only-of-type {\n",
       "        vertical-align: middle;\n",
       "    }\n",
       "\n",
       "    .dataframe tbody tr th {\n",
       "        vertical-align: top;\n",
       "    }\n",
       "\n",
       "    .dataframe thead th {\n",
       "        text-align: right;\n",
       "    }\n",
       "</style>\n",
       "<table border=\"1\" class=\"dataframe\">\n",
       "  <thead>\n",
       "    <tr style=\"text-align: right;\">\n",
       "      <th></th>\n",
       "      <th>TIMESTAMP</th>\n",
       "      <th>SOIL_COMP</th>\n",
       "      <th>SOIL_MOISTURE</th>\n",
       "      <th>SOIL_PH</th>\n",
       "      <th>NITROGEN_LEVEL</th>\n",
       "      <th>PHOSPHOROUS_LEVEL</th>\n",
       "      <th>ORGANIC_MATTER</th>\n",
       "    </tr>\n",
       "  </thead>\n",
       "  <tbody>\n",
       "    <tr>\n",
       "      <th>0</th>\n",
       "      <td>2023-06-24T14:37:00Z</td>\n",
       "      <td>31.86</td>\n",
       "      <td>28.5</td>\n",
       "      <td>5.76</td>\n",
       "      <td>13.91</td>\n",
       "      <td>3.80</td>\n",
       "      <td>5.17</td>\n",
       "    </tr>\n",
       "    <tr>\n",
       "      <th>1</th>\n",
       "      <td>2023-01-14T00:57:00Z</td>\n",
       "      <td>59.36</td>\n",
       "      <td>29.2</td>\n",
       "      <td>7.84</td>\n",
       "      <td>16.58</td>\n",
       "      <td>4.00</td>\n",
       "      <td>1.70</td>\n",
       "    </tr>\n",
       "    <tr>\n",
       "      <th>2</th>\n",
       "      <td>2023-03-14T14:40:00Z</td>\n",
       "      <td>13.26</td>\n",
       "      <td>32.4</td>\n",
       "      <td>4.39</td>\n",
       "      <td>7.10</td>\n",
       "      <td>8.93</td>\n",
       "      <td>3.46</td>\n",
       "    </tr>\n",
       "    <tr>\n",
       "      <th>3</th>\n",
       "      <td>2023-05-28T18:17:00Z</td>\n",
       "      <td>23.45</td>\n",
       "      <td>23.4</td>\n",
       "      <td>4.25</td>\n",
       "      <td>8.63</td>\n",
       "      <td>3.13</td>\n",
       "      <td>5.26</td>\n",
       "    </tr>\n",
       "    <tr>\n",
       "      <th>4</th>\n",
       "      <td>2022-12-31T10:39:00Z</td>\n",
       "      <td>46.32</td>\n",
       "      <td>58.3</td>\n",
       "      <td>5.76</td>\n",
       "      <td>NaN</td>\n",
       "      <td>NaN</td>\n",
       "      <td>8.35</td>\n",
       "    </tr>\n",
       "  </tbody>\n",
       "</table>\n",
       "</div>"
      ],
      "text/plain": [
       "              TIMESTAMP  SOIL_COMP  SOIL_MOISTURE  SOIL_PH  NITROGEN_LEVEL  \\\n",
       "0  2023-06-24T14:37:00Z      31.86           28.5     5.76           13.91   \n",
       "1  2023-01-14T00:57:00Z      59.36           29.2     7.84           16.58   \n",
       "2  2023-03-14T14:40:00Z      13.26           32.4     4.39            7.10   \n",
       "3  2023-05-28T18:17:00Z      23.45           23.4     4.25            8.63   \n",
       "4  2022-12-31T10:39:00Z      46.32           58.3     5.76             NaN   \n",
       "\n",
       "   PHOSPHOROUS_LEVEL  ORGANIC_MATTER  \n",
       "0               3.80            5.17  \n",
       "1               4.00            1.70  \n",
       "2               8.93            3.46  \n",
       "3               3.13            5.26  \n",
       "4                NaN            8.35  "
      ]
     },
     "execution_count": 2,
     "metadata": {},
     "output_type": "execute_result"
    }
   ],
   "source": [
    "import pandas as pd\n",
    "df = pd.read_csv(r'C:\\Users\\USER\\Desktop\\work\\S-P-500-Analysis\\2023-09-15 12_00pm (1).csv')\n",
    "dff = pd.DataFrame(df)\n",
    "dff.head()"
   ]
  },
  {
   "cell_type": "code",
   "execution_count": 3,
   "id": "c55fe61b",
   "metadata": {},
   "outputs": [
    {
     "name": "stdout",
     "output_type": "stream",
     "text": [
      "6.0\n",
      "5.99898759887798\n",
      "44.98\n",
      "44.995360439922194\n",
      "40.0\n",
      "40.00122835866145\n",
      "17.5\n",
      "17.501529745710698\n",
      "6.0\n",
      "6.000645227014283\n",
      "5.5\n",
      "5.498589961538018\n"
     ]
    }
   ],
   "source": [
    "print(dff['SOIL_PH'].median(),dff['SOIL_PH'].mean(),dff['SOIL_COMP'].median(),dff['SOIL_COMP'].mean(),dff['SOIL_MOISTURE'].median(),dff['SOIL_MOISTURE'].mean(),dff['NITROGEN_LEVEL'].median(),dff['NITROGEN_LEVEL'].mean(),dff['PHOSPHOROUS_LEVEL'].median(),dff['PHOSPHOROUS_LEVEL'].mean(),dff['ORGANIC_MATTER'].median(),dff['ORGANIC_MATTER'].mean(),sep ='\\n')"
   ]
  },
  {
   "cell_type": "code",
   "execution_count": 4,
   "id": "4ca2ae35",
   "metadata": {},
   "outputs": [
    {
     "data": {
      "text/html": [
       "<div>\n",
       "<style scoped>\n",
       "    .dataframe tbody tr th:only-of-type {\n",
       "        vertical-align: middle;\n",
       "    }\n",
       "\n",
       "    .dataframe tbody tr th {\n",
       "        vertical-align: top;\n",
       "    }\n",
       "\n",
       "    .dataframe thead th {\n",
       "        text-align: right;\n",
       "    }\n",
       "</style>\n",
       "<table border=\"1\" class=\"dataframe\">\n",
       "  <thead>\n",
       "    <tr style=\"text-align: right;\">\n",
       "      <th></th>\n",
       "      <th>TIMESTAMP</th>\n",
       "      <th>WEATHER_CONDITION</th>\n",
       "      <th>WIND_SPEED</th>\n",
       "      <th>PRECIPITATION</th>\n",
       "    </tr>\n",
       "  </thead>\n",
       "  <tbody>\n",
       "    <tr>\n",
       "      <th>0</th>\n",
       "      <td>2023-02-02T21:33:00Z</td>\n",
       "      <td>Cloudy</td>\n",
       "      <td>16.9</td>\n",
       "      <td>8.74</td>\n",
       "    </tr>\n",
       "    <tr>\n",
       "      <th>1</th>\n",
       "      <td>2022-12-29T10:40:00Z</td>\n",
       "      <td>NaN</td>\n",
       "      <td>17.0</td>\n",
       "      <td>2.72</td>\n",
       "    </tr>\n",
       "    <tr>\n",
       "      <th>2</th>\n",
       "      <td>2023-08-20T10:45:00Z</td>\n",
       "      <td>Partly Cloudy</td>\n",
       "      <td>19.8</td>\n",
       "      <td>0.58</td>\n",
       "    </tr>\n",
       "    <tr>\n",
       "      <th>3</th>\n",
       "      <td>2023-05-16T22:23:00Z</td>\n",
       "      <td>Fog</td>\n",
       "      <td>9.7</td>\n",
       "      <td>0.67</td>\n",
       "    </tr>\n",
       "    <tr>\n",
       "      <th>4</th>\n",
       "      <td>2022-11-23T18:16:00Z</td>\n",
       "      <td>NaN</td>\n",
       "      <td>19.7</td>\n",
       "      <td>NaN</td>\n",
       "    </tr>\n",
       "  </tbody>\n",
       "</table>\n",
       "</div>"
      ],
      "text/plain": [
       "              TIMESTAMP WEATHER_CONDITION  WIND_SPEED  PRECIPITATION\n",
       "0  2023-02-02T21:33:00Z            Cloudy        16.9           8.74\n",
       "1  2022-12-29T10:40:00Z               NaN        17.0           2.72\n",
       "2  2023-08-20T10:45:00Z     Partly Cloudy        19.8           0.58\n",
       "3  2023-05-16T22:23:00Z               Fog         9.7           0.67\n",
       "4  2022-11-23T18:16:00Z               NaN        19.7            NaN"
      ]
     },
     "execution_count": 4,
     "metadata": {},
     "output_type": "execute_result"
    }
   ],
   "source": [
    "WEATHER = pd.read_csv(r'C:\\Users\\USER\\Desktop\\work\\S-P-500-Analysis\\WEATHER_DATA_TABLE.csv')\n",
    "WEATHER_TABLE = pd.DataFrame(WEATHER)\n",
    "WEATHER_TABLE.head()"
   ]
  },
  {
   "cell_type": "code",
   "execution_count": 5,
   "id": "4dbe7b2d",
   "metadata": {},
   "outputs": [
    {
     "name": "stdout",
     "output_type": "stream",
     "text": [
      "15.00410712298422\n",
      "15.0\n",
      "4.9978367519941145\n",
      "5.0\n"
     ]
    }
   ],
   "source": [
    "print(WEATHER_TABLE['WIND_SPEED'].mean(), WEATHER_TABLE['WIND_SPEED'].median(), WEATHER_TABLE['PRECIPITATION'].mean(), WEATHER_TABLE['PRECIPITATION'].median(), sep='\\n')"
   ]
  },
  {
   "cell_type": "code",
   "execution_count": null,
   "id": "8f0a17f7",
   "metadata": {},
   "outputs": [],
   "source": [
    "\n"
   ]
  },
  {
   "cell_type": "code",
   "execution_count": null,
   "id": "7534891b",
   "metadata": {},
   "outputs": [],
   "source": []
  },
  {
   "cell_type": "code",
   "execution_count": null,
   "id": "04b56578",
   "metadata": {},
   "outputs": [],
   "source": []
  },
  {
   "cell_type": "code",
   "execution_count": null,
   "id": "53acfc45",
   "metadata": {},
   "outputs": [],
   "source": []
  },
  {
   "cell_type": "code",
   "execution_count": null,
   "id": "f0c303e1",
   "metadata": {},
   "outputs": [],
   "source": []
  },
  {
   "cell_type": "code",
   "execution_count": null,
   "id": "ac9225b6",
   "metadata": {},
   "outputs": [],
   "source": []
  },
  {
   "cell_type": "code",
   "execution_count": null,
   "id": "73dd6522",
   "metadata": {},
   "outputs": [],
   "source": []
  },
  {
   "cell_type": "code",
   "execution_count": null,
   "id": "9f00b27d",
   "metadata": {},
   "outputs": [],
   "source": []
  },
  {
   "cell_type": "code",
   "execution_count": null,
   "id": "ec3b0599",
   "metadata": {},
   "outputs": [],
   "source": []
  },
  {
   "cell_type": "code",
   "execution_count": null,
   "id": "7e755a2d",
   "metadata": {},
   "outputs": [],
   "source": []
  },
  {
   "cell_type": "code",
   "execution_count": null,
   "id": "28f157f3",
   "metadata": {},
   "outputs": [],
   "source": []
  },
  {
   "cell_type": "code",
   "execution_count": null,
   "id": "008e876a",
   "metadata": {},
   "outputs": [],
   "source": []
  }
 ],
 "metadata": {
  "kernelspec": {
   "display_name": "Python 3 (ipykernel)",
   "language": "python",
   "name": "python3"
  },
  "language_info": {
   "codemirror_mode": {
    "name": "ipython",
    "version": 3
   },
   "file_extension": ".py",
   "mimetype": "text/x-python",
   "name": "python",
   "nbconvert_exporter": "python",
   "pygments_lexer": "ipython3",
   "version": "3.10.9"
  }
 },
 "nbformat": 4,
 "nbformat_minor": 5
}
